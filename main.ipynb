{
 "cells": [
  {
   "cell_type": "code",
   "execution_count": 1,
   "metadata": {},
   "outputs": [
    {
     "name": "stdout",
     "output_type": "stream",
     "text": [
      "2023-01-15 13:03:24,397 INFO sqlalchemy.engine.Engine BEGIN (implicit)\n",
      "2023-01-15 13:03:24,399 INFO sqlalchemy.engine.Engine PRAGMA main.table_info(\"training\")\n",
      "2023-01-15 13:03:24,400 INFO sqlalchemy.engine.Engine [raw sql] ()\n",
      "2023-01-15 13:03:24,403 INFO sqlalchemy.engine.Engine PRAGMA main.table_info(\"test\")\n",
      "2023-01-15 13:03:24,409 INFO sqlalchemy.engine.Engine [raw sql] ()\n",
      "2023-01-15 13:03:24,427 INFO sqlalchemy.engine.Engine PRAGMA main.table_info(\"ideal\")\n",
      "2023-01-15 13:03:24,488 INFO sqlalchemy.engine.Engine [raw sql] ()\n",
      "2023-01-15 13:03:24,535 INFO sqlalchemy.engine.Engine COMMIT\n"
     ]
    }
   ],
   "source": [
    "import pandas as pd\n",
    "import numpy as np\n",
    "import matplotlib.pyplot as plt\n",
    "import csv\n",
    "import sqlite3\n",
    "import database\n",
    "import BestIdeal as BI\n",
    "import ShowBestIdeal as SBI\n",
    "from sqlalchemy import select\n"
   ]
  },
  {
   "cell_type": "code",
   "execution_count": 2,
   "metadata": {},
   "outputs": [],
   "source": [
    "train=pd.read_csv('CSV_File/train.csv')\n",
    "test=pd.read_csv('CSV_File/test.csv')\n",
    "ideal=pd.read_csv('CSV_File/ideal.csv')"
   ]
  },
  {
   "cell_type": "code",
   "execution_count": 3,
   "metadata": {},
   "outputs": [
    {
     "name": "stdout",
     "output_type": "stream",
     "text": [
      "2023-01-15 13:03:24,657 INFO sqlalchemy.engine.Engine BEGIN (implicit)\n",
      "2023-01-15 13:03:24,663 INFO sqlalchemy.engine.Engine PRAGMA main.table_info(\"training\")\n",
      "2023-01-15 13:03:24,664 INFO sqlalchemy.engine.Engine [raw sql] ()\n",
      "2023-01-15 13:03:24,667 INFO sqlalchemy.engine.Engine PRAGMA main.table_info(\"training\")\n",
      "2023-01-15 13:03:24,670 INFO sqlalchemy.engine.Engine [raw sql] ()\n",
      "2023-01-15 13:03:24,673 INFO sqlalchemy.engine.Engine SELECT name FROM sqlite_master WHERE type='table' ORDER BY name\n",
      "2023-01-15 13:03:24,676 INFO sqlalchemy.engine.Engine [raw sql] ()\n",
      "2023-01-15 13:03:24,679 INFO sqlalchemy.engine.Engine PRAGMA main.table_xinfo(\"training\")\n",
      "2023-01-15 13:03:24,683 INFO sqlalchemy.engine.Engine [raw sql] ()\n",
      "2023-01-15 13:03:24,686 INFO sqlalchemy.engine.Engine SELECT sql FROM  (SELECT * FROM sqlite_master UNION ALL   SELECT * FROM sqlite_temp_master) WHERE name = ? AND type = 'table'\n",
      "2023-01-15 13:03:24,688 INFO sqlalchemy.engine.Engine [raw sql] ('training',)\n",
      "2023-01-15 13:03:24,695 INFO sqlalchemy.engine.Engine PRAGMA main.foreign_key_list(\"training\")\n",
      "2023-01-15 13:03:24,699 INFO sqlalchemy.engine.Engine [raw sql] ()\n",
      "2023-01-15 13:03:24,704 INFO sqlalchemy.engine.Engine PRAGMA temp.foreign_key_list(\"training\")\n",
      "2023-01-15 13:03:24,709 INFO sqlalchemy.engine.Engine [raw sql] ()\n",
      "2023-01-15 13:03:24,715 INFO sqlalchemy.engine.Engine SELECT sql FROM  (SELECT * FROM sqlite_master UNION ALL   SELECT * FROM sqlite_temp_master) WHERE name = ? AND type = 'table'\n",
      "2023-01-15 13:03:24,717 INFO sqlalchemy.engine.Engine [raw sql] ('training',)\n",
      "2023-01-15 13:03:24,720 INFO sqlalchemy.engine.Engine PRAGMA main.index_list(\"training\")\n",
      "2023-01-15 13:03:24,723 INFO sqlalchemy.engine.Engine [raw sql] ()\n",
      "2023-01-15 13:03:24,726 INFO sqlalchemy.engine.Engine PRAGMA main.index_info(\"ix_training_id\")\n",
      "2023-01-15 13:03:24,727 INFO sqlalchemy.engine.Engine [raw sql] ()\n",
      "2023-01-15 13:03:24,731 INFO sqlalchemy.engine.Engine PRAGMA main.index_list(\"training\")\n",
      "2023-01-15 13:03:24,743 INFO sqlalchemy.engine.Engine [raw sql] ()\n",
      "2023-01-15 13:03:24,748 INFO sqlalchemy.engine.Engine PRAGMA main.index_info(\"ix_training_id\")\n",
      "2023-01-15 13:03:24,760 INFO sqlalchemy.engine.Engine [raw sql] ()\n",
      "2023-01-15 13:03:24,768 INFO sqlalchemy.engine.Engine SELECT sql FROM  (SELECT * FROM sqlite_master UNION ALL   SELECT * FROM sqlite_temp_master) WHERE name = ? AND type = 'table'\n",
      "2023-01-15 13:03:24,775 INFO sqlalchemy.engine.Engine [raw sql] ('training',)\n",
      "2023-01-15 13:03:24,780 INFO sqlalchemy.engine.Engine \n",
      "DROP TABLE training\n",
      "2023-01-15 13:03:24,782 INFO sqlalchemy.engine.Engine [no key 0.00178s] ()\n",
      "2023-01-15 13:03:24,795 INFO sqlalchemy.engine.Engine \n",
      "CREATE TABLE training (\n",
      "\tid BIGINT, \n",
      "\tx FLOAT, \n",
      "\ty1 FLOAT, \n",
      "\ty2 FLOAT, \n",
      "\ty3 FLOAT, \n",
      "\ty4 FLOAT\n",
      ")\n",
      "\n",
      "\n",
      "2023-01-15 13:03:24,797 INFO sqlalchemy.engine.Engine [no key 0.00213s] ()\n",
      "2023-01-15 13:03:24,803 INFO sqlalchemy.engine.Engine CREATE INDEX ix_training_id ON training (id)\n",
      "2023-01-15 13:03:24,806 INFO sqlalchemy.engine.Engine [no key 0.00292s] ()\n",
      "2023-01-15 13:03:24,821 INFO sqlalchemy.engine.Engine INSERT INTO training (id, x, y1, y2, y3, y4) VALUES (?, ?, ?, ?, ?, ?)\n",
      "2023-01-15 13:03:24,821 INFO sqlalchemy.engine.Engine [generated in 0.00334s] ((0, -20.0, -7600.474, -58.07732, 4.680629, 5.788492), (1, -19.9, -7484.3735, -57.614563, 4.581015, 5.7504406), (2, -19.8, -7370.021, -57.01414, 4.4055986, 5.1011515), (3, -19.7, -7257.725, -57.07005, 4.178491, 5.668333), (4, -19.6, -7145.653, -56.686066, 4.841078, 5.638637), (5, -19.5, -7035.053, -56.34689, 4.1515326, 4.8918743), (6, -19.4, -6924.819, -56.152584, 4.487379, 5.5746717), (7, -19.3, -6816.6323, -55.958138, 4.5813074, 5.5459332)  ... displaying 10 of 400 total bound parameter sets ...  (398, 19.8, 8154.3027, 61.80846, 4.3674955, 5.7266726), (399, 19.9, 8276.111, 61.367706, 4.8528953, 5.0339613))\n",
      "Success insert training dataset, ok!\n",
      "2023-01-15 13:03:24,834 INFO sqlalchemy.engine.Engine COMMIT\n"
     ]
    }
   ],
   "source": [
    "# Standart method of Pandas to deliver data from DataFrame to PastgresQL\n",
    "try:\n",
    "    with database.engine.begin() as connection:\n",
    "        train.to_sql('training', con=connection, index_label='id', if_exists='replace')\n",
    "        print('Success insert training dataset, ok!')\n",
    "except:\n",
    "    print('Something went wrong while insert training dataset!')"
   ]
  },
  {
   "cell_type": "code",
   "execution_count": 4,
   "metadata": {},
   "outputs": [
    {
     "name": "stdout",
     "output_type": "stream",
     "text": [
      "2023-01-15 13:03:24,995 INFO sqlalchemy.engine.Engine BEGIN (implicit)\n",
      "2023-01-15 13:03:25,009 INFO sqlalchemy.engine.Engine PRAGMA main.table_info(\"ideal\")\n",
      "2023-01-15 13:03:25,016 INFO sqlalchemy.engine.Engine [raw sql] ()\n",
      "2023-01-15 13:03:25,023 INFO sqlalchemy.engine.Engine PRAGMA main.table_info(\"ideal\")\n",
      "2023-01-15 13:03:25,026 INFO sqlalchemy.engine.Engine [raw sql] ()\n",
      "2023-01-15 13:03:25,029 INFO sqlalchemy.engine.Engine SELECT name FROM sqlite_master WHERE type='table' ORDER BY name\n",
      "2023-01-15 13:03:25,031 INFO sqlalchemy.engine.Engine [raw sql] ()\n",
      "2023-01-15 13:03:25,033 INFO sqlalchemy.engine.Engine PRAGMA main.table_xinfo(\"ideal\")\n",
      "2023-01-15 13:03:25,035 INFO sqlalchemy.engine.Engine [raw sql] ()\n",
      "2023-01-15 13:03:25,042 INFO sqlalchemy.engine.Engine SELECT sql FROM  (SELECT * FROM sqlite_master UNION ALL   SELECT * FROM sqlite_temp_master) WHERE name = ? AND type = 'table'\n",
      "2023-01-15 13:03:25,048 INFO sqlalchemy.engine.Engine [raw sql] ('ideal',)\n",
      "2023-01-15 13:03:25,050 INFO sqlalchemy.engine.Engine PRAGMA main.foreign_key_list(\"ideal\")\n",
      "2023-01-15 13:03:25,053 INFO sqlalchemy.engine.Engine [raw sql] ()\n",
      "2023-01-15 13:03:25,056 INFO sqlalchemy.engine.Engine PRAGMA temp.foreign_key_list(\"ideal\")\n",
      "2023-01-15 13:03:25,058 INFO sqlalchemy.engine.Engine [raw sql] ()\n",
      "2023-01-15 13:03:25,062 INFO sqlalchemy.engine.Engine SELECT sql FROM  (SELECT * FROM sqlite_master UNION ALL   SELECT * FROM sqlite_temp_master) WHERE name = ? AND type = 'table'\n",
      "2023-01-15 13:03:25,066 INFO sqlalchemy.engine.Engine [raw sql] ('ideal',)\n",
      "2023-01-15 13:03:25,072 INFO sqlalchemy.engine.Engine PRAGMA main.index_list(\"ideal\")\n",
      "2023-01-15 13:03:25,077 INFO sqlalchemy.engine.Engine [raw sql] ()\n",
      "2023-01-15 13:03:25,080 INFO sqlalchemy.engine.Engine PRAGMA main.index_info(\"ix_ideal_id\")\n",
      "2023-01-15 13:03:25,085 INFO sqlalchemy.engine.Engine [raw sql] ()\n",
      "2023-01-15 13:03:25,086 INFO sqlalchemy.engine.Engine PRAGMA main.index_list(\"ideal\")\n",
      "2023-01-15 13:03:25,088 INFO sqlalchemy.engine.Engine [raw sql] ()\n",
      "2023-01-15 13:03:25,090 INFO sqlalchemy.engine.Engine PRAGMA main.index_info(\"ix_ideal_id\")\n",
      "2023-01-15 13:03:25,091 INFO sqlalchemy.engine.Engine [raw sql] ()\n",
      "2023-01-15 13:03:25,093 INFO sqlalchemy.engine.Engine SELECT sql FROM  (SELECT * FROM sqlite_master UNION ALL   SELECT * FROM sqlite_temp_master) WHERE name = ? AND type = 'table'\n",
      "2023-01-15 13:03:25,095 INFO sqlalchemy.engine.Engine [raw sql] ('ideal',)\n",
      "2023-01-15 13:03:25,098 INFO sqlalchemy.engine.Engine \n",
      "DROP TABLE ideal\n",
      "2023-01-15 13:03:25,100 INFO sqlalchemy.engine.Engine [no key 0.00250s] ()\n",
      "2023-01-15 13:03:25,113 INFO sqlalchemy.engine.Engine \n",
      "CREATE TABLE ideal (\n",
      "\tid BIGINT, \n",
      "\tx FLOAT, \n",
      "\ty1 FLOAT, \n",
      "\ty2 FLOAT, \n",
      "\ty3 FLOAT, \n",
      "\ty4 FLOAT, \n",
      "\ty5 FLOAT, \n",
      "\ty6 FLOAT, \n",
      "\ty7 FLOAT, \n",
      "\ty8 FLOAT, \n",
      "\ty9 FLOAT, \n",
      "\ty10 FLOAT, \n",
      "\ty11 FLOAT, \n",
      "\ty12 FLOAT, \n",
      "\ty13 FLOAT, \n",
      "\ty14 FLOAT, \n",
      "\ty15 FLOAT, \n",
      "\ty16 FLOAT, \n",
      "\ty17 FLOAT, \n",
      "\ty18 FLOAT, \n",
      "\ty19 FLOAT, \n",
      "\ty20 FLOAT, \n",
      "\ty21 FLOAT, \n",
      "\ty22 FLOAT, \n",
      "\ty23 FLOAT, \n",
      "\ty24 FLOAT, \n",
      "\ty25 FLOAT, \n",
      "\ty26 FLOAT, \n",
      "\ty27 FLOAT, \n",
      "\ty28 FLOAT, \n",
      "\ty29 FLOAT, \n",
      "\ty30 FLOAT, \n",
      "\ty31 FLOAT, \n",
      "\ty32 FLOAT, \n",
      "\ty33 FLOAT, \n",
      "\ty34 FLOAT, \n",
      "\ty35 FLOAT, \n",
      "\ty36 FLOAT, \n",
      "\ty37 FLOAT, \n",
      "\ty38 FLOAT, \n",
      "\ty39 FLOAT, \n",
      "\ty40 FLOAT, \n",
      "\ty41 FLOAT, \n",
      "\ty42 FLOAT, \n",
      "\ty43 FLOAT, \n",
      "\ty44 FLOAT, \n",
      "\ty45 FLOAT, \n",
      "\ty46 FLOAT, \n",
      "\ty47 FLOAT, \n",
      "\ty48 FLOAT, \n",
      "\ty49 FLOAT, \n",
      "\ty50 FLOAT\n",
      ")\n",
      "\n",
      "\n",
      "2023-01-15 13:03:25,116 INFO sqlalchemy.engine.Engine [no key 0.00261s] ()\n",
      "2023-01-15 13:03:25,118 INFO sqlalchemy.engine.Engine CREATE INDEX ix_ideal_id ON ideal (id)\n",
      "2023-01-15 13:03:25,119 INFO sqlalchemy.engine.Engine [no key 0.00102s] ()\n",
      "2023-01-15 13:03:25,141 INFO sqlalchemy.engine.Engine INSERT INTO ideal (id, x, y1, y2, y3, y4, y5, y6, y7, y8, y9, y10, y11, y12, y13, y14, y15, y16, y17, y18, y19, y20, y21, y22, y23, y24, y25, y26, y27, y28, y29, y30, y31, y32, y33, y34, y35, y36, y37, y38, y39, y40, y41, y42, y43, y44, y45, y46, y47, y48, y49, y50) VALUES (?, ?, ?, ?, ?, ?, ?, ?, ?, ?, ?, ?, ?, ?, ?, ?, ?, ?, ?, ?, ?, ?, ?, ?, ?, ?, ?, ?, ?, ?, ?, ?, ?, ?, ?, ?, ?, ?, ?, ?, ?, ?, ?, ?, ?, ?, ?, ?, ?, ?, ?, ?)\n",
      "2023-01-15 13:03:25,142 INFO sqlalchemy.engine.Engine [generated in 0.01119s] ((0, -20.0, -0.9129453, 0.40808207, 9.087055, 5.408082, -9.087055, 0.9129453, -0.8390715, -0.85091937, 0.81616414, 18.258905, -20.0, -58.0, -45.0, 20.0, 13.0, 400.0, -400.0, 800.0, 410.0, 289.0, -8000.0, 8000.0, 8000.0, -16000.0, -23995.0, -5832.0, 10648.0, -8020.0, -7600.0, -8795.0, 20.0, 4.472136, 20.12461, -0.7464143, 10.0, 100.0, -20.0, -1.3210273, 399.08707, 899.5919, -40.456474, 40.20404, 2.9957323, -0.008333334, 12.995732, 5.2983174, -5.2983174, -0.18627828, 0.9129453, 0.3968496), (1, -19.9, -0.8676441, 0.4971858, 9.132356, 5.4971857, -9.132356, 0.8676441, -0.8652126, 0.16851768, 0.9943716, 17.266117, -19.9, -57.7, -44.8, 19.9, 12.95, 396.01, -396.01, 792.02, 406.01, 285.61, -7880.599, 7880.599, 7880.599, -15761.198, -23636.797, -5735.339, 10503.459, -7900.499, -7484.589, -8667.619, 19.9, 4.460942, 20.025234, -0.6204504, 9.9, 99.5, -19.9, -1.3648299, 395.14236, 893.5128, -40.23382, 40.04859, 2.9907198, -0.008340283, 12.99072, 5.293305, -5.293305, -0.21569017, 0.8676441, 0.47695395), (2, -19.8, -0.81367373, 0.58132184, 9.186326, 5.5813217, -9.186326, 0.81367373, -0.88919115, 0.6123911, 1.1626437, 16.11074, -19.8, -57.4, -44.6, 19.8, 12.9, 392.04, -392.04, 784.08, 402.04, 282.24, -7762.392, 7762.392, 7762.392, -15524.784, -23282.176, -5639.752, 10360.232, -7782.192, -7370.352, -8541.472, 19.8, 4.449719, 19.925863, -0.47573867, 9.8, 99.0, -19.8, -1.3949956, 391.22632, 887.4587, -40.006836, 39.89066, 2.985682, -0.008347246, 12.985682, 5.288267, -5.288267, -0.23650314, 0.81367373, 0.5491291), (3, -19.7, -0.75157344, 0.65964943, 9.248426, 5.6596494, -9.248426, 0.75157344, -0.91094714, -0.99466854, 1.3192989, 14.805996, -19.7, -57.1, -44.4, 19.7, 12.85, 388.09, -388.09, 776.18, 398.09, 278.89, -7645.373, 7645.373, 7645.373, -15290.746, -22931.12, -5545.233, 10218.313, -7665.073, -7257.283, -8416.553, 19.7, 4.438468, 19.826498, -0.31643602, 9.7, 98.5, -19.7, -1.4112228, 387.33844, 881.43036, -39.775787, 39.729824, 2.9806187, -0.008354219, 12.9806185, 5.2832036, -5.2832036, -0.24788749, 0.75157344, 0.6128399), (4, -19.6, -0.6819636, 0.7313861, 9.318036, 5.731386, -9.318036, 0.6819636, -0.9304263, 0.7743557, 1.4627723, 13.366487, -19.6, -56.8, -44.2, 19.6, 12.8, 384.16, -384.16, 768.32, 394.16, 275.56, -7529.536, 7529.536, 7529.536, -15059.072, -22583.607, -5451.776, 10077.696, -7549.136, -7145.376, -8292.856, 19.6, 4.427189, 19.727139, -0.147038, 9.6, 98.0, -19.6, -1.4133497, 383.47803, 875.4286, -39.54098, 39.565693, 2.9755297, -0.008361204, 12.97553, 5.278115, -5.278115, -0.24938935, 0.6819636, 0.6679019), (5, -19.5, -0.60553986, 0.795815, 9.39446, 5.795815, -9.39446, 0.60553986, -0.9475798, -0.11702018, 1.59163, 11.808027, -19.5, -56.5, -44.0, 19.5, 12.75, 380.25, -380.25, 760.5, 390.25, 272.25, -7414.875, 7414.875, 7414.875, -14829.75, -22239.625, -5359.375, 9938.375, -7434.375, -7034.625, -8170.375, 19.5, 4.41588, 19.627787, 0.027781596, 9.5, 97.5, -19.5, -1.4013548, 379.64447, 869.45416, -39.30277, 39.397907, 2.9704144, -0.008368201, 12.970414, 5.273, -5.273, -0.24094884, 0.60553986, 0.7144341), (6, -19.4, -0.52306575, 0.8522923, 9.476934, 5.8522925, -9.476934, 0.52306575, -0.96236485, -0.59004813, 1.7045846, 10.147476, -19.4, -56.2, -43.8, 19.4, 12.7, 376.36, -376.36, 752.72, 386.36, 268.96, -7301.384, 7301.384, 7301.384, -14602.768, -21899.152, -5268.024, 9800.344, -7320.784, -6925.024, -8049.104, 19.4, 4.404543, 19.52844, 0.20333645, 9.4, 97.0, -19.4, -1.3753581, 375.83694, 863.5077, -39.06153, 39.226147, 2.9652731, -0.00837521, 12.965273, 5.267858, -5.267858, -0.22290246, 0.52306575, 0.75279135), (7, -19.3, -0.43536535, 0.90025383, 9.564634, 5.900254, -9.564634, 0.43536535, -0.97474456, 0.97776526, 1.8005077, 8.402552, -19.3, -55.9, -43.6, 19.3, 12.65, 372.49, -372.49, 744.98, 382.49, 265.69, -7189.057, 7189.057, 7189.057, -14378.114, -21562.172, -5177.717, 9663.597, -7208.357, -6816.567, -7929.037, 19.3, 4.3931766, 19.429102, 0.37509164, 9.3, 96.5, -19.3, -1.3356192, 372.05463, 857.5897, -38.817684, 39.050125, 2.9601052, -0.00838223, 12.960105, 5.26269, -5.26269, -0.19596967, 0.43536535, 0.7834847)  ... displaying 10 of 400 total bound parameter sets ...  (398, 19.8, 0.81367373, 0.58132184, 10.813674, 5.5813217, -10.813674, -0.81367373, -0.88919115, 0.6123911, 1.1626437, 16.11074, 19.8, 61.4, 34.6, -19.8, -6.9, 392.04, -392.04, 784.08, 402.04, 519.84, 7762.392, 7762.392, -7762.392, 15524.784, 23292.176, 10360.232, -5639.752, 7782.192, 8154.432, 6983.312, 19.8, 4.449719, 19.925863, 1.1516088, 9.8, 99.0, -19.8, 0.23235193, 392.85367, 95.45868, 40.006836, -39.309338, 2.985682, -0.012468828, 12.985682, 5.288267, -5.288267, 0.23650314, 0.81367373, 0.5491291), (399, 19.9, 0.8676441, 0.4971858, 10.867644, 5.4971857, -10.867644, -0.8676441, -0.8652126, 0.16851768, 0.9943716, 17.266117, 19.9, 61.7, 34.8, -19.9, -6.95, 396.01, -396.01, 792.02, 406.01, 524.41, 7880.599, 7880.599, -7880.599, 15761.198, 23646.797, 10503.459, -5735.339, 7900.499, 8276.609, 7093.579, 19.9, 4.460942, 20.025234, 1.1148378, 9.9, 99.5, -19.9, 0.3704583, 396.87766, 97.51282, 40.23382, -39.551407, 2.9907198, -0.012484395, 12.99072, 5.293305, -5.293305, 0.21569017, 0.8676441, 0.47695395))\n",
      "Success insert ideal dataset, ok!\n",
      "2023-01-15 13:03:25,151 INFO sqlalchemy.engine.Engine COMMIT\n"
     ]
    }
   ],
   "source": [
    "# Standart method of Pandas to deliver data from DataFrame to PastgresQL\n",
    "try:\n",
    "    with database.engine.begin() as connection:\n",
    "        ideal.to_sql('ideal', con=connection, index_label='id', if_exists='replace')\n",
    "        print('Success insert ideal dataset, ok!')\n",
    "except:\n",
    "    print('Something went wrong while insert ideal dataset !')"
   ]
  },
  {
   "cell_type": "code",
   "execution_count": 5,
   "metadata": {},
   "outputs": [
    {
     "name": "stdout",
     "output_type": "stream",
     "text": [
      "2023-01-15 13:03:25,181 INFO sqlalchemy.engine.Engine BEGIN (implicit)\n",
      "2023-01-15 13:03:25,185 INFO sqlalchemy.engine.Engine PRAGMA main.table_info(\"test\")\n",
      "2023-01-15 13:03:25,187 INFO sqlalchemy.engine.Engine [raw sql] ()\n",
      "2023-01-15 13:03:25,190 INFO sqlalchemy.engine.Engine PRAGMA main.table_info(\"test\")\n",
      "2023-01-15 13:03:25,193 INFO sqlalchemy.engine.Engine [raw sql] ()\n",
      "2023-01-15 13:03:25,194 INFO sqlalchemy.engine.Engine SELECT name FROM sqlite_master WHERE type='table' ORDER BY name\n",
      "2023-01-15 13:03:25,197 INFO sqlalchemy.engine.Engine [raw sql] ()\n",
      "2023-01-15 13:03:25,204 INFO sqlalchemy.engine.Engine PRAGMA main.table_xinfo(\"test\")\n",
      "2023-01-15 13:03:25,206 INFO sqlalchemy.engine.Engine [raw sql] ()\n",
      "2023-01-15 13:03:25,211 INFO sqlalchemy.engine.Engine SELECT sql FROM  (SELECT * FROM sqlite_master UNION ALL   SELECT * FROM sqlite_temp_master) WHERE name = ? AND type = 'table'\n",
      "2023-01-15 13:03:25,212 INFO sqlalchemy.engine.Engine [raw sql] ('test',)\n",
      "2023-01-15 13:03:25,215 INFO sqlalchemy.engine.Engine PRAGMA main.foreign_key_list(\"test\")\n",
      "2023-01-15 13:03:25,219 INFO sqlalchemy.engine.Engine [raw sql] ()\n",
      "2023-01-15 13:03:25,221 INFO sqlalchemy.engine.Engine PRAGMA temp.foreign_key_list(\"test\")\n",
      "2023-01-15 13:03:25,222 INFO sqlalchemy.engine.Engine [raw sql] ()\n",
      "2023-01-15 13:03:25,224 INFO sqlalchemy.engine.Engine SELECT sql FROM  (SELECT * FROM sqlite_master UNION ALL   SELECT * FROM sqlite_temp_master) WHERE name = ? AND type = 'table'\n",
      "2023-01-15 13:03:25,224 INFO sqlalchemy.engine.Engine [raw sql] ('test',)\n",
      "2023-01-15 13:03:25,227 INFO sqlalchemy.engine.Engine PRAGMA main.index_list(\"test\")\n",
      "2023-01-15 13:03:25,229 INFO sqlalchemy.engine.Engine [raw sql] ()\n",
      "2023-01-15 13:03:25,232 INFO sqlalchemy.engine.Engine PRAGMA main.index_info(\"ix_test_id\")\n",
      "2023-01-15 13:03:25,232 INFO sqlalchemy.engine.Engine [raw sql] ()\n",
      "2023-01-15 13:03:25,235 INFO sqlalchemy.engine.Engine PRAGMA main.index_list(\"test\")\n",
      "2023-01-15 13:03:25,236 INFO sqlalchemy.engine.Engine [raw sql] ()\n",
      "2023-01-15 13:03:25,238 INFO sqlalchemy.engine.Engine PRAGMA main.index_info(\"ix_test_id\")\n",
      "2023-01-15 13:03:25,240 INFO sqlalchemy.engine.Engine [raw sql] ()\n",
      "2023-01-15 13:03:25,250 INFO sqlalchemy.engine.Engine SELECT sql FROM  (SELECT * FROM sqlite_master UNION ALL   SELECT * FROM sqlite_temp_master) WHERE name = ? AND type = 'table'\n",
      "2023-01-15 13:03:25,252 INFO sqlalchemy.engine.Engine [raw sql] ('test',)\n",
      "2023-01-15 13:03:25,255 INFO sqlalchemy.engine.Engine \n",
      "DROP TABLE test\n",
      "2023-01-15 13:03:25,256 INFO sqlalchemy.engine.Engine [no key 0.00072s] ()\n",
      "2023-01-15 13:03:25,270 INFO sqlalchemy.engine.Engine \n",
      "CREATE TABLE test (\n",
      "\tid BIGINT, \n",
      "\tx FLOAT, \n",
      "\ty FLOAT\n",
      ")\n",
      "\n",
      "\n",
      "2023-01-15 13:03:25,304 INFO sqlalchemy.engine.Engine [no key 0.03408s] ()\n",
      "2023-01-15 13:03:25,366 INFO sqlalchemy.engine.Engine CREATE INDEX ix_test_id ON test (id)\n",
      "2023-01-15 13:03:25,373 INFO sqlalchemy.engine.Engine [no key 0.00724s] ()\n",
      "2023-01-15 13:03:25,383 INFO sqlalchemy.engine.Engine INSERT INTO test (id, x, y) VALUES (?, ?, ?)\n",
      "2023-01-15 13:03:25,386 INFO sqlalchemy.engine.Engine [generated in 0.00409s] ((0, -7.6, 3.1206317), (1, 17.4, 4.283737), (2, 0.9, 3770.8403), (3, 10.5, 4.147878), (4, 9.0, 808.771), (5, 17.6, 4.3120184), (6, 9.5, 30.556004), (7, 18.7, 6887.806)  ... displaying 10 of 100 total bound parameter sets ...  (98, 2.0, 1.391943), (99, -14.0, -3662.3113))\n",
      "Success insert test dataset, ok!\n",
      "2023-01-15 13:03:25,391 INFO sqlalchemy.engine.Engine COMMIT\n"
     ]
    }
   ],
   "source": [
    "# Standart method of Pandas to deliver data from DataFrame to PastgresQL\n",
    "try:\n",
    "    with database.engine.begin() as connection:\n",
    "        test.to_sql('test', con=connection, index_label='id', if_exists='replace')\n",
    "        print('Success insert test dataset, ok!')\n",
    "except:\n",
    "    print('Something went wrong while insert test dataset !')"
   ]
  },
  {
   "cell_type": "code",
   "execution_count": 6,
   "metadata": {},
   "outputs": [
    {
     "name": "stdout",
     "output_type": "stream",
     "text": [
      "2023-01-15 13:03:25,496 INFO sqlalchemy.engine.Engine PRAGMA main.table_info(\"select * from training\")\n",
      "2023-01-15 13:03:25,499 INFO sqlalchemy.engine.Engine [raw sql] ()\n",
      "2023-01-15 13:03:25,501 INFO sqlalchemy.engine.Engine PRAGMA temp.table_info(\"select * from training\")\n",
      "2023-01-15 13:03:25,504 INFO sqlalchemy.engine.Engine [raw sql] ()\n",
      "2023-01-15 13:03:25,508 INFO sqlalchemy.engine.Engine select * from training\n",
      "2023-01-15 13:03:25,509 INFO sqlalchemy.engine.Engine [raw sql] ()\n",
      "2023-01-15 13:03:25,521 INFO sqlalchemy.engine.Engine PRAGMA main.table_info(\"select * from ideal\")\n",
      "2023-01-15 13:03:25,523 INFO sqlalchemy.engine.Engine [raw sql] ()\n",
      "2023-01-15 13:03:25,527 INFO sqlalchemy.engine.Engine PRAGMA temp.table_info(\"select * from ideal\")\n",
      "2023-01-15 13:03:25,531 INFO sqlalchemy.engine.Engine [raw sql] ()\n",
      "2023-01-15 13:03:25,534 INFO sqlalchemy.engine.Engine select * from ideal\n",
      "2023-01-15 13:03:25,535 INFO sqlalchemy.engine.Engine [raw sql] ()\n",
      "2023-01-15 13:03:25,583 INFO sqlalchemy.engine.Engine PRAGMA main.table_info(\"select * from test\")\n",
      "2023-01-15 13:03:25,585 INFO sqlalchemy.engine.Engine [raw sql] ()\n",
      "2023-01-15 13:03:25,587 INFO sqlalchemy.engine.Engine PRAGMA temp.table_info(\"select * from test\")\n",
      "2023-01-15 13:03:25,592 INFO sqlalchemy.engine.Engine [raw sql] ()\n",
      "2023-01-15 13:03:25,598 INFO sqlalchemy.engine.Engine select * from test\n",
      "2023-01-15 13:03:25,602 INFO sqlalchemy.engine.Engine [raw sql] ()\n"
     ]
    }
   ],
   "source": [
    "\n",
    "\n",
    "\n",
    "train = pd.read_sql('select * from training',database.engine).drop(columns = 'id')\n",
    "ideal = pd.read_sql('select * from ideal',database.engine).drop(columns = 'id')\n",
    "test = pd.read_sql('select * from test',database.engine).drop(columns = 'id')"
   ]
  },
  {
   "cell_type": "code",
   "execution_count": 7,
   "metadata": {},
   "outputs": [
    {
     "data": {
      "text/html": [
       "<div>\n",
       "<style scoped>\n",
       "    .dataframe tbody tr th:only-of-type {\n",
       "        vertical-align: middle;\n",
       "    }\n",
       "\n",
       "    .dataframe tbody tr th {\n",
       "        vertical-align: top;\n",
       "    }\n",
       "\n",
       "    .dataframe thead th {\n",
       "        text-align: right;\n",
       "    }\n",
       "</style>\n",
       "<table border=\"1\" class=\"dataframe\">\n",
       "  <thead>\n",
       "    <tr style=\"text-align: right;\">\n",
       "      <th></th>\n",
       "      <th>x</th>\n",
       "      <th>y1</th>\n",
       "      <th>y2</th>\n",
       "      <th>y3</th>\n",
       "      <th>y4</th>\n",
       "    </tr>\n",
       "  </thead>\n",
       "  <tbody>\n",
       "    <tr>\n",
       "      <th>0</th>\n",
       "      <td>-20.0</td>\n",
       "      <td>-7600.4740</td>\n",
       "      <td>-58.077320</td>\n",
       "      <td>4.680629</td>\n",
       "      <td>5.788492</td>\n",
       "    </tr>\n",
       "    <tr>\n",
       "      <th>1</th>\n",
       "      <td>-19.9</td>\n",
       "      <td>-7484.3735</td>\n",
       "      <td>-57.614563</td>\n",
       "      <td>4.581015</td>\n",
       "      <td>5.750441</td>\n",
       "    </tr>\n",
       "    <tr>\n",
       "      <th>2</th>\n",
       "      <td>-19.8</td>\n",
       "      <td>-7370.0210</td>\n",
       "      <td>-57.014140</td>\n",
       "      <td>4.405599</td>\n",
       "      <td>5.101152</td>\n",
       "    </tr>\n",
       "    <tr>\n",
       "      <th>3</th>\n",
       "      <td>-19.7</td>\n",
       "      <td>-7257.7250</td>\n",
       "      <td>-57.070050</td>\n",
       "      <td>4.178491</td>\n",
       "      <td>5.668333</td>\n",
       "    </tr>\n",
       "    <tr>\n",
       "      <th>4</th>\n",
       "      <td>-19.6</td>\n",
       "      <td>-7145.6530</td>\n",
       "      <td>-56.686066</td>\n",
       "      <td>4.841078</td>\n",
       "      <td>5.638637</td>\n",
       "    </tr>\n",
       "  </tbody>\n",
       "</table>\n",
       "</div>"
      ],
      "text/plain": [
       "      x         y1         y2        y3        y4\n",
       "0 -20.0 -7600.4740 -58.077320  4.680629  5.788492\n",
       "1 -19.9 -7484.3735 -57.614563  4.581015  5.750441\n",
       "2 -19.8 -7370.0210 -57.014140  4.405599  5.101152\n",
       "3 -19.7 -7257.7250 -57.070050  4.178491  5.668333\n",
       "4 -19.6 -7145.6530 -56.686066  4.841078  5.638637"
      ]
     },
     "execution_count": 7,
     "metadata": {},
     "output_type": "execute_result"
    }
   ],
   "source": [
    "\n",
    "train.head()"
   ]
  },
  {
   "cell_type": "code",
   "execution_count": 8,
   "metadata": {},
   "outputs": [],
   "source": [
    "casestudy=BI.BestIdeal(train,ideal,test)"
   ]
  },
  {
   "cell_type": "code",
   "execution_count": 9,
   "metadata": {},
   "outputs": [
    {
     "name": "stdout",
     "output_type": "stream",
     "text": [
      "Help on BestIdeal in module BestIdeal object:\n",
      "\n",
      "class BestIdeal(builtins.object)\n",
      " |  BestIdeal(train, ideal, test)\n",
      " |  \n",
      " |  This Class to Select Best ideal Function for Regression Issue\n",
      " |  \n",
      " |  Methods defined here:\n",
      " |  \n",
      " |  Least_Squares_Deviation_Cost_For_Regression(self, y, h)\n",
      " |      Calculate Least Squares Deviation Cost For Regression\n",
      " |  \n",
      " |  Select_best_ideal_function(self)\n",
      " |      choose the four ideal functions which are the best fit out of the fifty provided\n",
      " |  \n",
      " |  __init__(self, train, ideal, test)\n",
      " |      Initialize self.  See help(type(self)) for accurate signature.\n",
      " |  \n",
      " |  test_ideal_matching(self)\n",
      " |      matching ideal function to test data\n",
      " |  \n",
      " |  ----------------------------------------------------------------------\n",
      " |  Data descriptors defined here:\n",
      " |  \n",
      " |  __dict__\n",
      " |      dictionary for instance variables (if defined)\n",
      " |  \n",
      " |  __weakref__\n",
      " |      list of weak references to the object (if defined)\n",
      "\n"
     ]
    }
   ],
   "source": [
    "help(casestudy)"
   ]
  },
  {
   "cell_type": "code",
   "execution_count": 10,
   "metadata": {},
   "outputs": [
    {
     "name": "stdout",
     "output_type": "stream",
     "text": [
      "train y1 ---> ideal y28\n",
      "train y2 ---> ideal y11\n",
      "train y3 ---> ideal y31\n",
      "train y4 ---> ideal y45\n"
     ]
    }
   ],
   "source": [
    "casestudy.Select_best_ideal_function()"
   ]
  },
  {
   "cell_type": "code",
   "execution_count": 11,
   "metadata": {},
   "outputs": [
    {
     "data": {
      "text/plain": [
       "{'y1': 'y28', 'y2': 'y11', 'y3': 'y31', 'y4': 'y45'}"
      ]
     },
     "execution_count": 11,
     "metadata": {},
     "output_type": "execute_result"
    }
   ],
   "source": [
    "casestudy.match"
   ]
  },
  {
   "cell_type": "code",
   "execution_count": 1,
   "metadata": {},
   "outputs": [
    {
     "ename": "NameError",
     "evalue": "name 'casestudy' is not defined",
     "output_type": "error",
     "traceback": [
      "\u001b[0;31m---------------------------------------------------------------------------\u001b[0m",
      "\u001b[0;31mNameError\u001b[0m                                 Traceback (most recent call last)",
      "Cell \u001b[0;32mIn[1], line 1\u001b[0m\n\u001b[0;32m----> 1\u001b[0m selected\u001b[39m=\u001b[39mcasestudy\u001b[39m.\u001b[39mselected_ideal()\n\u001b[1;32m      2\u001b[0m selected\u001b[39m.\u001b[39mhead()\n",
      "\u001b[0;31mNameError\u001b[0m: name 'casestudy' is not defined"
     ]
    }
   ],
   "source": [
    "selected=casestudy.selected_ideal()\n",
    "selected.head()"
   ]
  },
  {
   "cell_type": "code",
   "execution_count": 12,
   "metadata": {},
   "outputs": [
    {
     "data": {
      "text/plain": [
       "[0.08688459577920256,\n",
       " 0.07324779418732136,\n",
       " 0.07619308507258965,\n",
       " 0.0798174585570744]"
      ]
     },
     "execution_count": 12,
     "metadata": {},
     "output_type": "execute_result"
    }
   ],
   "source": [
    "casestudy.Least_Squares"
   ]
  },
  {
   "cell_type": "code",
   "execution_count": 13,
   "metadata": {},
   "outputs": [
    {
     "name": "stdout",
     "output_type": "stream",
     "text": [
      "no matching\n"
     ]
    },
    {
     "data": {
      "text/plain": [
       "'no matching'"
      ]
     },
     "execution_count": 13,
     "metadata": {},
     "output_type": "execute_result"
    }
   ],
   "source": [
    "casestudy.test_ideal_matching()"
   ]
  },
  {
   "cell_type": "code",
   "execution_count": 14,
   "metadata": {},
   "outputs": [
    {
     "data": {
      "text/plain": [
       "[20986137.52989072, 5516233.958228494, 5546385.214166891, 5544981.992138399]"
      ]
     },
     "execution_count": 14,
     "metadata": {},
     "output_type": "execute_result"
    }
   ],
   "source": [
    "casestudy.test_Least_Squares"
   ]
  },
  {
   "cell_type": "code",
   "execution_count": 15,
   "metadata": {},
   "outputs": [
    {
     "name": "stdout",
     "output_type": "stream",
     "text": [
      "train y1 ---> ideal y28\n",
      "train y2 ---> ideal y11\n",
      "train y3 ---> ideal y31\n",
      "train y4 ---> ideal y45\n"
     ]
    }
   ],
   "source": [
    "casestudy=SBI.ShowBestIdeal(train,ideal,test)\n",
    "casestudy.Select_best_ideal_function()"
   ]
  },
  {
   "cell_type": "code",
   "execution_count": 16,
   "metadata": {},
   "outputs": [
    {
     "name": "stdout",
     "output_type": "stream",
     "text": [
      "Help on ShowBestIdeal in module ShowBestIdeal object:\n",
      "\n",
      "class ShowBestIdeal(BestIdeal.BestIdeal)\n",
      " |  ShowBestIdeal(train, ideal, test)\n",
      " |  \n",
      " |  This Class to Select and show Best ideal Function for Regression Issue\n",
      " |  \n",
      " |  Method resolution order:\n",
      " |      ShowBestIdeal\n",
      " |      BestIdeal.BestIdeal\n",
      " |      builtins.object\n",
      " |  \n",
      " |  Methods defined here:\n",
      " |  \n",
      " |  plot_regression_line(self, X, Y, c)\n",
      " |      Show regression line\n",
      " |  \n",
      " |  regression_line(self, X, Y)\n",
      " |      Calculate regression line\n",
      " |  \n",
      " |  show_ideal_test_func(self, i)\n",
      " |      show matching bitween ideal function and test data\n",
      " |  \n",
      " |  show_ideal_train_func(self, i)\n",
      " |      Show Best ideal function\n",
      " |  \n",
      " |  ----------------------------------------------------------------------\n",
      " |  Methods inherited from BestIdeal.BestIdeal:\n",
      " |  \n",
      " |  Least_Squares_Deviation_Cost_For_Regression(self, y, h)\n",
      " |      Calculate Least Squares Deviation Cost For Regression\n",
      " |  \n",
      " |  Select_best_ideal_function(self)\n",
      " |      choose the four ideal functions which are the best fit out of the fifty provided\n",
      " |  \n",
      " |  __init__(self, train, ideal, test)\n",
      " |      Initialize self.  See help(type(self)) for accurate signature.\n",
      " |  \n",
      " |  test_ideal_matching(self)\n",
      " |      matching ideal function to test data\n",
      " |  \n",
      " |  ----------------------------------------------------------------------\n",
      " |  Data descriptors inherited from BestIdeal.BestIdeal:\n",
      " |  \n",
      " |  __dict__\n",
      " |      dictionary for instance variables (if defined)\n",
      " |  \n",
      " |  __weakref__\n",
      " |      list of weak references to the object (if defined)\n",
      "\n"
     ]
    }
   ],
   "source": [
    "help(casestudy)"
   ]
  },
  {
   "cell_type": "code",
   "execution_count": 17,
   "metadata": {},
   "outputs": [
    {
     "name": "stdout",
     "output_type": "stream",
     "text": [
      "no matching\n"
     ]
    },
    {
     "data": {
      "text/plain": [
       "'no matching'"
      ]
     },
     "execution_count": 17,
     "metadata": {},
     "output_type": "execute_result"
    }
   ],
   "source": [
    "casestudy.test_ideal_matching()"
   ]
  },
  {
   "cell_type": "code",
   "execution_count": 18,
   "metadata": {},
   "outputs": [
    {
     "name": "stdout",
     "output_type": "stream",
     "text": [
      "y1 ---> y28\n"
     ]
    },
    {
     "data": {
      "image/png": "[encoded data removed]",
      "text/plain": [
       "<Figure size 640x480 with 1 Axes>"
      ]
     },
     "metadata": {},
     "output_type": "display_data"
    }
   ],
   "source": [
    "casestudy.show_ideal_train_func(0)"
   ]
  },
  {
   "cell_type": "code",
   "execution_count": 19,
   "metadata": {},
   "outputs": [
    {
     "name": "stdout",
     "output_type": "stream",
     "text": [
      "Y (test) ---> y31\n"
     ]
    },
    {
     "data": {
      "image/png": "[encoded data removed]",
      "text/plain": [
       "<Figure size 640x480 with 1 Axes>"
      ]
     },
     "metadata": {},
     "output_type": "display_data"
    }
   ],
   "source": [
    "casestudy.show_ideal_test_func(2)"
   ]
  },
  {
   "cell_type": "code",
   "execution_count": null,
   "metadata": {},
   "outputs": [],
   "source": []
  }
 ],
 "metadata": {
  "kernelspec": {
   "display_name": "Python 3",
   "language": "python",
   "name": "python3"
  },
  "language_info": {
   "codemirror_mode": {
    "name": "ipython",
    "version": 3
   },
   "file_extension": ".py",
   "mimetype": "text/x-python",
   "name": "python",
   "nbconvert_exporter": "python",
   "pygments_lexer": "ipython3",
   "version": "3.10.7"
  },
  "orig_nbformat": 4,
  "vscode": {
   "interpreter": {
    "hash": "aee8b7b246df8f9039afb4144a1f6fd8d2ca17a180786b69acc140d282b71a49"
   }
  }
 },
 "nbformat": 4,
 "nbformat_minor": 2
}
